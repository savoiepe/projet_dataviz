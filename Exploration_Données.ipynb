{
 "cells": [
  {
   "cell_type": "markdown",
   "id": "37cb94a6",
   "metadata": {},
   "source": [
    "# Exploration de donnée rapide "
   ]
  },
  {
   "cell_type": "code",
   "execution_count": 26,
   "id": "c23ffc57",
   "metadata": {},
   "outputs": [],
   "source": [
    "import pandas as pd\n",
    "import matplotlib.pyplot as plt\n",
    "import numpy as np"
   ]
  },
  {
   "cell_type": "code",
   "execution_count": 15,
   "id": "41c6c5e0",
   "metadata": {},
   "outputs": [
    {
     "data": {
      "text/html": [
       "<div>\n",
       "<style scoped>\n",
       "    .dataframe tbody tr th:only-of-type {\n",
       "        vertical-align: middle;\n",
       "    }\n",
       "\n",
       "    .dataframe tbody tr th {\n",
       "        vertical-align: top;\n",
       "    }\n",
       "\n",
       "    .dataframe thead th {\n",
       "        text-align: right;\n",
       "    }\n",
       "</style>\n",
       "<table border=\"1\" class=\"dataframe\">\n",
       "  <thead>\n",
       "    <tr style=\"text-align: right;\">\n",
       "      <th></th>\n",
       "      <th>Média ?</th>\n",
       "      <th>Date de publication ?</th>\n",
       "      <th>Description ?</th>\n",
       "      <th>Colonne 4</th>\n",
       "      <th>Colonne 5</th>\n",
       "      <th>Colonne 6</th>\n",
       "      <th>Colonne 7</th>\n",
       "      <th>Colonne 8</th>\n",
       "      <th>Hyperlien ?</th>\n",
       "      <th>Colonne 10</th>\n",
       "      <th>Musique ?</th>\n",
       "      <th>Origine de la musique ?</th>\n",
       "    </tr>\n",
       "  </thead>\n",
       "  <tbody>\n",
       "    <tr>\n",
       "      <th>1</th>\n",
       "      <td>infobref</td>\n",
       "      <td>2022-11-26 10:06:51</td>\n",
       "      <td>Les prix de l’#immobilier au Canada vont baiss...</td>\n",
       "      <td>0</td>\n",
       "      <td>17</td>\n",
       "      <td>551</td>\n",
       "      <td>6</td>\n",
       "      <td>NaN</td>\n",
       "      <td>https://www.tiktok.com/@infobref/video/7170341...</td>\n",
       "      <td>166</td>\n",
       "      <td>son original</td>\n",
       "      <td>InfoBref</td>\n",
       "    </tr>\n",
       "    <tr>\n",
       "      <th>2</th>\n",
       "      <td>infobref</td>\n",
       "      <td>2022-11-18 10:04:06</td>\n",
       "      <td>#TWITTER survivra-t-il à #ELONMUSK? À retenir ...</td>\n",
       "      <td>0</td>\n",
       "      <td>1</td>\n",
       "      <td>137</td>\n",
       "      <td>0</td>\n",
       "      <td>NaN</td>\n",
       "      <td>https://www.tiktok.com/@infobref/video/7167370...</td>\n",
       "      <td>595</td>\n",
       "      <td>son original - InfoBref</td>\n",
       "      <td>InfoBref</td>\n",
       "    </tr>\n",
       "    <tr>\n",
       "      <th>3</th>\n",
       "      <td>infobref</td>\n",
       "      <td>2022-11-11 13:42:35</td>\n",
       "      <td>Le chemin du métavers est pénible pour Meta | ...</td>\n",
       "      <td>0</td>\n",
       "      <td>1</td>\n",
       "      <td>25</td>\n",
       "      <td>0</td>\n",
       "      <td>NaN</td>\n",
       "      <td>https://www.tiktok.com/@infobref/video/7164830...</td>\n",
       "      <td>577</td>\n",
       "      <td>son original</td>\n",
       "      <td>InfoBref</td>\n",
       "    </tr>\n",
       "    <tr>\n",
       "      <th>4</th>\n",
       "      <td>infobref</td>\n",
       "      <td>2022-11-05 08:25:36</td>\n",
       "      <td>#ElonMusk fait le ménage chez #Twitter | Nouve...</td>\n",
       "      <td>0</td>\n",
       "      <td>1</td>\n",
       "      <td>88</td>\n",
       "      <td>0</td>\n",
       "      <td>NaN</td>\n",
       "      <td>https://www.tiktok.com/@infobref/video/7162507...</td>\n",
       "      <td>534</td>\n",
       "      <td>son original</td>\n",
       "      <td>InfoBref</td>\n",
       "    </tr>\n",
       "    <tr>\n",
       "      <th>5</th>\n",
       "      <td>infobref</td>\n",
       "      <td>2022-10-30 14:28:43</td>\n",
       "      <td>À retenir dans l'actualité des #affaires: on v...</td>\n",
       "      <td>0</td>\n",
       "      <td>0</td>\n",
       "      <td>11</td>\n",
       "      <td>0</td>\n",
       "      <td>NaN</td>\n",
       "      <td>https://www.tiktok.com/@infobref/video/7160374...</td>\n",
       "      <td>587</td>\n",
       "      <td>son original</td>\n",
       "      <td>InfoBref</td>\n",
       "    </tr>\n",
       "    <tr>\n",
       "      <th>...</th>\n",
       "      <td>...</td>\n",
       "      <td>...</td>\n",
       "      <td>...</td>\n",
       "      <td>...</td>\n",
       "      <td>...</td>\n",
       "      <td>...</td>\n",
       "      <td>...</td>\n",
       "      <td>...</td>\n",
       "      <td>...</td>\n",
       "      <td>...</td>\n",
       "      <td>...</td>\n",
       "      <td>...</td>\n",
       "    </tr>\n",
       "    <tr>\n",
       "      <th>13239</th>\n",
       "      <td>hugodecrypte</td>\n",
       "      <td>2019-11-22 11:52:26</td>\n",
       "      <td>70 chars de guerre défilent dans les rues en B...</td>\n",
       "      <td>8</td>\n",
       "      <td>933</td>\n",
       "      <td>18400</td>\n",
       "      <td>4</td>\n",
       "      <td>Chaque année en Belgique. Il y a le + grand ra...</td>\n",
       "      <td>https://www.tiktok.com/@hugodecrypte/video/676...</td>\n",
       "      <td>29</td>\n",
       "      <td>son original</td>\n",
       "      <td>hugodecrypte</td>\n",
       "    </tr>\n",
       "    <tr>\n",
       "      <th>13240</th>\n",
       "      <td>hugodecrypte</td>\n",
       "      <td>2019-11-21 08:40:41</td>\n",
       "      <td>Emma Watson en 8 dates #foryou #pourtoi #emmaw...</td>\n",
       "      <td>5</td>\n",
       "      <td>773</td>\n",
       "      <td>5144</td>\n",
       "      <td>5</td>\n",
       "      <td>EMMA WATSON \\nen 8 dates. 2001 : son premier f...</td>\n",
       "      <td>https://www.tiktok.com/@hugodecrypte/video/676...</td>\n",
       "      <td>28</td>\n",
       "      <td>On Top Of The World</td>\n",
       "      <td>Imagine Dragons</td>\n",
       "    </tr>\n",
       "    <tr>\n",
       "      <th>13241</th>\n",
       "      <td>hugodecrypte</td>\n",
       "      <td>2019-11-20 05:58:04</td>\n",
       "      <td>Ils lisent 500 pages en 1h30 !Reportage sur no...</td>\n",
       "      <td>32</td>\n",
       "      <td>1153</td>\n",
       "      <td>11000</td>\n",
       "      <td>32</td>\n",
       "      <td>Ils lisent 500 pages \\nen 1h30. C’est le champ...</td>\n",
       "      <td>https://www.tiktok.com/@hugodecrypte/video/676...</td>\n",
       "      <td>31</td>\n",
       "      <td>son original</td>\n",
       "      <td>hugodecrypte</td>\n",
       "    </tr>\n",
       "    <tr>\n",
       "      <th>13242</th>\n",
       "      <td>hugodecrypte</td>\n",
       "      <td>2019-11-18 04:04:04</td>\n",
       "      <td>Omar Sy en 8 dates #foryou #pourtoi #hugodecry...</td>\n",
       "      <td>6</td>\n",
       "      <td>617</td>\n",
       "      <td>8763</td>\n",
       "      <td>3</td>\n",
       "      <td>OMAR SY \\nen 8 dates. 1995 : sa rencontre \\nav...</td>\n",
       "      <td>https://www.tiktok.com/@hugodecrypte/video/676...</td>\n",
       "      <td>28</td>\n",
       "      <td>Believer</td>\n",
       "      <td>Imagine Dragons</td>\n",
       "    </tr>\n",
       "    <tr>\n",
       "      <th>13243</th>\n",
       "      <td>hugodecrypte</td>\n",
       "      <td>2019-08-10 21:27:58</td>\n",
       "      <td>Vous en pensez quoi ? #pourtoi #foryourpage #f...</td>\n",
       "      <td>57</td>\n",
       "      <td>1222</td>\n",
       "      <td>14200</td>\n",
       "      <td>11</td>\n",
       "      <td>Des balançoires installées à la frontière entr...</td>\n",
       "      <td>https://www.tiktok.com/@hugodecrypte/video/672...</td>\n",
       "      <td>16</td>\n",
       "      <td>Señorita</td>\n",
       "      <td>Shawn Mendes &amp; Camila Cabello</td>\n",
       "    </tr>\n",
       "  </tbody>\n",
       "</table>\n",
       "<p>13243 rows × 12 columns</p>\n",
       "</div>"
      ],
      "text/plain": [
       "            Média ? Date de publication ?  \\\n",
       "1          infobref   2022-11-26 10:06:51   \n",
       "2          infobref   2022-11-18 10:04:06   \n",
       "3          infobref   2022-11-11 13:42:35   \n",
       "4          infobref   2022-11-05 08:25:36   \n",
       "5          infobref   2022-10-30 14:28:43   \n",
       "...             ...                   ...   \n",
       "13239  hugodecrypte   2019-11-22 11:52:26   \n",
       "13240  hugodecrypte   2019-11-21 08:40:41   \n",
       "13241  hugodecrypte   2019-11-20 05:58:04   \n",
       "13242  hugodecrypte   2019-11-18 04:04:04   \n",
       "13243  hugodecrypte   2019-08-10 21:27:58   \n",
       "\n",
       "                                           Description ?  Colonne 4  \\\n",
       "1      Les prix de l’#immobilier au Canada vont baiss...          0   \n",
       "2      #TWITTER survivra-t-il à #ELONMUSK? À retenir ...          0   \n",
       "3      Le chemin du métavers est pénible pour Meta | ...          0   \n",
       "4      #ElonMusk fait le ménage chez #Twitter | Nouve...          0   \n",
       "5      À retenir dans l'actualité des #affaires: on v...          0   \n",
       "...                                                  ...        ...   \n",
       "13239  70 chars de guerre défilent dans les rues en B...          8   \n",
       "13240  Emma Watson en 8 dates #foryou #pourtoi #emmaw...          5   \n",
       "13241  Ils lisent 500 pages en 1h30 !Reportage sur no...         32   \n",
       "13242  Omar Sy en 8 dates #foryou #pourtoi #hugodecry...          6   \n",
       "13243  Vous en pensez quoi ? #pourtoi #foryourpage #f...         57   \n",
       "\n",
       "       Colonne 5  Colonne 6  Colonne 7  \\\n",
       "1             17        551          6   \n",
       "2              1        137          0   \n",
       "3              1         25          0   \n",
       "4              1         88          0   \n",
       "5              0         11          0   \n",
       "...          ...        ...        ...   \n",
       "13239        933      18400          4   \n",
       "13240        773       5144          5   \n",
       "13241       1153      11000         32   \n",
       "13242        617       8763          3   \n",
       "13243       1222      14200         11   \n",
       "\n",
       "                                               Colonne 8  \\\n",
       "1                                                    NaN   \n",
       "2                                                    NaN   \n",
       "3                                                    NaN   \n",
       "4                                                    NaN   \n",
       "5                                                    NaN   \n",
       "...                                                  ...   \n",
       "13239  Chaque année en Belgique. Il y a le + grand ra...   \n",
       "13240  EMMA WATSON \\nen 8 dates. 2001 : son premier f...   \n",
       "13241  Ils lisent 500 pages \\nen 1h30. C’est le champ...   \n",
       "13242  OMAR SY \\nen 8 dates. 1995 : sa rencontre \\nav...   \n",
       "13243  Des balançoires installées à la frontière entr...   \n",
       "\n",
       "                                             Hyperlien ?  Colonne 10  \\\n",
       "1      https://www.tiktok.com/@infobref/video/7170341...         166   \n",
       "2      https://www.tiktok.com/@infobref/video/7167370...         595   \n",
       "3      https://www.tiktok.com/@infobref/video/7164830...         577   \n",
       "4      https://www.tiktok.com/@infobref/video/7162507...         534   \n",
       "5      https://www.tiktok.com/@infobref/video/7160374...         587   \n",
       "...                                                  ...         ...   \n",
       "13239  https://www.tiktok.com/@hugodecrypte/video/676...          29   \n",
       "13240  https://www.tiktok.com/@hugodecrypte/video/676...          28   \n",
       "13241  https://www.tiktok.com/@hugodecrypte/video/676...          31   \n",
       "13242  https://www.tiktok.com/@hugodecrypte/video/676...          28   \n",
       "13243  https://www.tiktok.com/@hugodecrypte/video/672...          16   \n",
       "\n",
       "                     Musique ?        Origine de la musique ?  \n",
       "1                 son original                       InfoBref  \n",
       "2      son original - InfoBref                       InfoBref  \n",
       "3                 son original                       InfoBref  \n",
       "4                 son original                       InfoBref  \n",
       "5                 son original                       InfoBref  \n",
       "...                        ...                            ...  \n",
       "13239             son original                   hugodecrypte  \n",
       "13240      On Top Of The World                Imagine Dragons  \n",
       "13241             son original                   hugodecrypte  \n",
       "13242                 Believer                Imagine Dragons  \n",
       "13243                 Señorita  Shawn Mendes & Camila Cabello  \n",
       "\n",
       "[13243 rows x 12 columns]"
      ]
     },
     "execution_count": 15,
     "metadata": {},
     "output_type": "execute_result"
    }
   ],
   "source": [
    "data = pd.read_csv(\n",
    "    'tiktokMediasFranco.csv', \n",
    "    header=None, \n",
    "    names=[\n",
    "        'Média ?', \n",
    "        'Date de publication ?', \n",
    "        'Description ?',\n",
    "        'Colonne 4', \n",
    "        'Colonne 5', \n",
    "        'Colonne 6',\n",
    "        'Colonne 7', \n",
    "        'Colonne 8', \n",
    "        'Hyperlien ?',\n",
    "        'Colonne 10', \n",
    "        'Musique ?', \n",
    "        'Origine de la musique ?'],\n",
    "    index_col = 0\n",
    ")\n",
    "\n",
    "data"
   ]
  },
  {
   "cell_type": "code",
   "execution_count": 13,
   "id": "8e797cfd",
   "metadata": {},
   "outputs": [
    {
     "data": {
      "text/plain": [
       "Index(['Média ?', 'Date de publication ?', 'Description ?', 'Colonne 4',\n",
       "       'Colonne 5', 'Colonne 6', 'Colonne 7', 'Colonne 8', 'Hyperlien ?',\n",
       "       'Colonne 10', 'Musique ?', 'Origine de la musique ?'],\n",
       "      dtype='object')"
      ]
     },
     "execution_count": 13,
     "metadata": {},
     "output_type": "execute_result"
    }
   ],
   "source": [
    "data.columns"
   ]
  },
  {
   "cell_type": "code",
   "execution_count": 27,
   "id": "7041dff3",
   "metadata": {},
   "outputs": [],
   "source": [
    "def quick_numeric_column_info(data, col_name):\n",
    "    print(\"max : \" + str(max(data[col_name])))\n",
    "    print(\"min : \" + str(min(data[col_name])))\n",
    "    print(\"mean : \" + str(data[col_name].mean()))\n",
    "    print(\"median : \" + str(data[col_name].median()))\n",
    "    data[col_name].plot()"
   ]
  },
  {
   "cell_type": "code",
   "execution_count": 30,
   "id": "19960eaa",
   "metadata": {},
   "outputs": [
    {
     "name": "stdout",
     "output_type": "stream",
     "text": [
      "max : 24700\n",
      "min : 0\n",
      "mean : 395.1644642452616\n",
      "median : 48.0\n"
     ]
    },
    {
     "data": {
      "image/png": "[encoded data removed]",
      "text/plain": [
       "<Figure size 432x288 with 1 Axes>"
      ]
     },
     "metadata": {
      "needs_background": "light"
     },
     "output_type": "display_data"
    }
   ],
   "source": [
    "quick_numeric_column_info(data, 'Colonne 4')"
   ]
  },
  {
   "cell_type": "code",
   "execution_count": 31,
   "id": "b9b26815",
   "metadata": {},
   "outputs": [
    {
     "name": "stdout",
     "output_type": "stream",
     "text": [
      "max : 1200000\n",
      "min : 0\n",
      "mean : 26632.527146416975\n",
      "median : 3120.0\n"
     ]
    },
    {
     "data": {
      "image/png": "[encoded data removed]",
      "text/plain": [
       "<Figure size 432x288 with 1 Axes>"
      ]
     },
     "metadata": {
      "needs_background": "light"
     },
     "output_type": "display_data"
    }
   ],
   "source": [
    "quick_numeric_column_info(data, 'Colonne 5')"
   ]
  },
  {
   "cell_type": "code",
   "execution_count": 32,
   "id": "2811ec54",
   "metadata": {},
   "outputs": [
    {
     "name": "stdout",
     "output_type": "stream",
     "text": [
      "max : 11500000\n",
      "min : 0\n",
      "mean : 274339.8435399834\n",
      "median : 45000.0\n"
     ]
    },
    {
     "data": {
      "image/png": "[encoded data removed]",
      "text/plain": [
       "<Figure size 432x288 with 1 Axes>"
      ]
     },
     "metadata": {
      "needs_background": "light"
     },
     "output_type": "display_data"
    }
   ],
   "source": [
    "quick_numeric_column_info(data, 'Colonne 6')"
   ]
  },
  {
   "cell_type": "code",
   "execution_count": 33,
   "id": "d7d9dcbd",
   "metadata": {},
   "outputs": [
    {
     "name": "stdout",
     "output_type": "stream",
     "text": [
      "max : 4500000\n",
      "min : 0\n",
      "mean : 913.1749603564147\n",
      "median : 26.0\n"
     ]
    },
    {
     "data": {
      "image/png": "[encoded data removed]",
      "text/plain": [
       "<Figure size 432x288 with 1 Axes>"
      ]
     },
     "metadata": {
      "needs_background": "light"
     },
     "output_type": "display_data"
    }
   ],
   "source": [
    "quick_numeric_column_info(data, 'Colonne 7')"
   ]
  },
  {
   "cell_type": "code",
   "execution_count": 34,
   "id": "af7068bd",
   "metadata": {},
   "outputs": [
    {
     "name": "stdout",
     "output_type": "stream",
     "text": [
      "max : 600\n",
      "min : 0\n",
      "mean : 62.007853205467036\n",
      "median : 53.0\n"
     ]
    },
    {
     "data": {
      "image/png": "[encoded data removed]",
      "text/plain": [
       "<Figure size 432x288 with 1 Axes>"
      ]
     },
     "metadata": {
      "needs_background": "light"
     },
     "output_type": "display_data"
    }
   ],
   "source": [
    "quick_numeric_column_info(data, 'Colonne 10')"
   ]
  },
  {
   "cell_type": "code",
   "execution_count": 41,
   "id": "51177d98",
   "metadata": {},
   "outputs": [
    {
     "name": "stdout",
     "output_type": "stream",
     "text": [
      "Column Média ? has 0(0.0%) missing values.\n",
      "Column Date de publication ? has 0(0.0%) missing values.\n",
      "Column Description ? has 127(0.009589972060711318%) missing values.\n",
      "Column Colonne 4 has 0(0.0%) missing values.\n",
      "Column Colonne 5 has 0(0.0%) missing values.\n",
      "Column Colonne 6 has 0(0.0%) missing values.\n",
      "Column Colonne 7 has 0(0.0%) missing values.\n",
      "Column Colonne 8 has 4249(0.32084875028316845%) missing values.\n",
      "Column Hyperlien ? has 0(0.0%) missing values.\n",
      "Column Colonne 10 has 0(0.0%) missing values.\n",
      "Column Musique ? has 12(0.0009061390923506759%) missing values.\n",
      "Column Origine de la musique ? has 12(0.0009061390923506759%) missing values.\n"
     ]
    }
   ],
   "source": [
    "def count_nan(data):\n",
    "    total = len(data)\n",
    "    \n",
    "    for col_name in data.columns:\n",
    "        missing = sum(data[col_name].isna())\n",
    "        print(\"Column \" + str(col_name) + \" has \" +str(missing) + \"(\"+str(missing/total)+\"%) missing values.\")\n",
    "\n",
    "count_nan(data)"
   ]
  },
  {
   "cell_type": "code",
   "execution_count": null,
   "id": "7771cb3d",
   "metadata": {},
   "outputs": [],
   "source": []
  }
 ],
 "metadata": {
  "kernelspec": {
   "display_name": "Python 3 (ipykernel)",
   "language": "python",
   "name": "python3"
  },
  "language_info": {
   "codemirror_mode": {
    "name": "ipython",
    "version": 3
   },
   "file_extension": ".py",
   "mimetype": "text/x-python",
   "name": "python",
   "nbconvert_exporter": "python",
   "pygments_lexer": "ipython3",
   "version": "3.9.12"
  }
 },
 "nbformat": 4,
 "nbformat_minor": 5
}
